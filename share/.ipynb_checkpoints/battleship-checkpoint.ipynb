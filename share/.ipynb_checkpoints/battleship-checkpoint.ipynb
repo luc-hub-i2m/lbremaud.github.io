{
 "cells": [
  {
   "cell_type": "markdown",
   "id": "fadb88ab-5c57-41ad-bce7-430cca6ff07a",
   "metadata": {},
   "source": [
    "# Construisez votre jeu de bataille navale!\n",
    "## Principe du jeu\n",
    "La bataille se jour à un joueur contre un autre. Le jeu consiste à faire couler tous les navires de l'adversaire. La bataille commence en plaçant tous les navires dans une grille secrète. Chacun à leur tour, les joueurs doivent trouver et couler les navires adverses en communiquant les coordonnées visées. Ici, vous jouerez d'abord contre l'ordinateur.\n",
    "\n",
    "## Eléments du code\n",
    "### Le code de la bataille navale est composé de deux éléments:\n",
    "#### Elément n°1: la grille (la vôtre et celle de l'ordinateur)\n",
    "* taille à initialiser\n",
    "* chaque case possède un \"état\" (0: eau, 1: navire, 2: touché, 3: manqué)\n",
    "* chaque état correspond à une couleur\n",
    "#### Elément n°2: les navires (les vôtres et ceux de l'ordinateur)\n",
    "* 4 types de navires (porte-avions, cuirassé, sous-marin, torpilleur)\n",
    "* un type navire possède un nom, un nombre (combien de navires du même type) et une taille\n",
    "\n",
    "## Structure du code\n",
    "### Le code est divisé en 4 fonctions-bloc:\n",
    "* bloc n°1: importation des librairies\n",
    "* bloc n°2: définition des paramètres\n",
    "* bloc n°3: initialisation\n",
    "* bloc n°4: définition des fonctions du jeu\n",
    "* bloc n°5: boucle principale"
   ]
  },
  {
   "cell_type": "markdown",
   "id": "2a88f9ff-780e-4cf0-b071-c9914de8faf2",
   "metadata": {},
   "source": [
    "## Bloc n°1: importation des librairies"
   ]
  },
  {
   "cell_type": "code",
   "execution_count": null,
   "id": "5eeaa4f6-e27f-4ac9-9b5a-ccdb90038358",
   "metadata": {},
   "outputs": [],
   "source": [
    "import matplotlib.pyplot as plt              # librairie d'affichage\n",
    "from matplotlib.colors import ListedColormap # cartographie des couleurs\n",
    "import numpy as np                           # opérations classiques\n",
    "import random                                # génération aléatoire"
   ]
  },
  {
   "cell_type": "markdown",
   "id": "439c536e-6349-4a76-8950-b04087c57664",
   "metadata": {},
   "source": [
    "## Bloc n°2: définition des paramètres"
   ]
  },
  {
   "cell_type": "code",
   "execution_count": null,
   "id": "d2b3182a-113f-46ca-a5c8-5325354b64bb",
   "metadata": {},
   "outputs": [],
   "source": [
    "# taille de la grille\n",
    "grid_size = 10\n",
    "\n",
    "# dictionnaire des navires (type: nombre, taille)\n",
    "ships = {\n",
    "    'porte-avions': (2, 5),\n",
    "    'cuirassé': (3, 4),\n",
    "    'sous-marin': (2, 3),\n",
    "    'torpilleur': (1, 2)\n",
    "}"
   ]
  },
  {
   "cell_type": "markdown",
   "id": "29761390-db37-42d4-b601-f54388d5482f",
   "metadata": {},
   "source": [
    "## Bloc n°3: initialisation"
   ]
  },
  {
   "cell_type": "code",
   "execution_count": null,
   "id": "302c05c2-cf05-44cc-85fd-8c4f061dae4b",
   "metadata": {},
   "outputs": [],
   "source": [
    "# grille du joueur\n",
    "player_grid = np.zeros((grid_size, grid_size), dtype=int)\n",
    "\n",
    "# grille de l'adversaire (l'ordinateur)\n",
    "computer_grid = np.zeros((grid_size, grid_size), dtype=int)"
   ]
  },
  {
   "cell_type": "markdown",
   "id": "9facae87-6e48-4a58-9497-98294355115a",
   "metadata": {},
   "source": [
    "## Bloc n°4: définition des fonctions du jeu"
   ]
  },
  {
   "cell_type": "code",
   "execution_count": null,
   "id": "c8034c36-b4a2-4e23-95cd-5ea660d00cb5",
   "metadata": {},
   "outputs": [],
   "source": [
    "def place_ships_randomly(grid, ships):\n",
    "    \"\"\"\n",
    "    Placement et orientation aléatoire des navires sur une grille.\n",
    "    \"\"\"\n",
    "    for name, (count, size) in ships.items():\n",
    "        for _ in range(count):\n",
    "            placed = False\n",
    "            while not placed:\n",
    "                orientation = random.choice([\"H\", \"V\"])\n",
    "                row = random.randint(0, grid_size - 1)\n",
    "                col = random.randint(0, grid_size - 1)\n",
    "                if orientation == \"H\" and col + size <= grid_size:\n",
    "                    if np.all(grid[row, col:col + size] == 0):\n",
    "                        grid[row, col:col + size] = 1\n",
    "                        placed = True\n",
    "                elif orientation == \"V\" and row + size <= grid_size:\n",
    "                    if np.all(grid[row:row + size, col] == 0):\n",
    "                        grid[row:row + size, col] = 1\n",
    "                        placed = True\n",
    "\n",
    "def display_grid(player_grid, computer_grid):\n",
    "    \"\"\"\n",
    "    Affiche la grille du joueur et celle de l'adversaire.\n",
    "    \"\"\"\n",
    "    player_colors = {\n",
    "        0: 'blue',\n",
    "        1: 'gray',\n",
    "        2: 'red',\n",
    "        3: 'white'}\n",
    "    \n",
    "    computer_colors = {\n",
    "        0: 'blue',\n",
    "        1: 'blue',\n",
    "        2: 'red',\n",
    "        3: 'white'}\n",
    "\n",
    "    fig, axes = plt.subplots(1, 2, figsize=(10, 5))\n",
    "    for ax, grid, title, colors in zip(\n",
    "        axes,\n",
    "        [player_grid, computer_grid],\n",
    "        [\"Grille du joueur\", \"Grille de l'ordinateur\"],\n",
    "        [player_colors, computer_colors]\n",
    "    ):\n",
    "        cmap = ListedColormap([c for c in colors.values()])\n",
    "        ax.imshow(grid, cmap=cmap, vmin=0, vmax=3, origin='lower')\n",
    "        ax.set_xticks(range(grid_size))\n",
    "        ax.set_yticks(range(grid_size))\n",
    "        ax.set_xticklabels(range(grid_size))\n",
    "        ax.set_yticklabels(range(grid_size))\n",
    "        ax.set_title(title)\n",
    "    plt.tight_layout()\n",
    "    plt.show(block=False)\n",
    "    plt.pause(0.1)\n",
    "    plt.clf()\n",
    "\n",
    "def hit(row, col, grid):\n",
    "    \"\"\"\n",
    "    Simule un tir.\n",
    "    \"\"\"\n",
    "    if grid[row, col] == 1:\n",
    "        grid[row, col] = 2\n",
    "        print(\"Touché !\")\n",
    "        return True\n",
    "    elif grid[row, col] == 0:\n",
    "        grid[row, col] = 3\n",
    "        print(\"Manqué !\")\n",
    "        return False\n",
    "    else:\n",
    "        print(\"Déjà visé.\")\n",
    "        return False\n",
    "\n",
    "def victory_condition(grid):\n",
    "    \"\"\"\n",
    "    Retourne 'Vrai' si plus auncun navire n'est sur la grille.\n",
    "    \"\"\"\n",
    "    return not np.any(grid == 1)"
   ]
  },
  {
   "cell_type": "markdown",
   "id": "dfd89c8d-6f70-44d0-abcb-c460bdf9b371",
   "metadata": {},
   "source": [
    "## Bloc n°5: boucle principale"
   ]
  },
  {
   "cell_type": "code",
   "execution_count": null,
   "id": "fd62d5d8-fd36-4edf-b3a8-523ef346e3cf",
   "metadata": {},
   "outputs": [],
   "source": [
    "# Placement aléatoire des navires sur la grille de joueur et de l'ordinateur\n",
    "place_ships_randomly(player_grid, ships)\n",
    "place_ships_randomly(computer_grid, ships)\n",
    "\n",
    "print(\"Bienvenue dans la Bataille Navale ! 🚢\")\n",
    "\n",
    "turn = 0\n",
    "while True:\n",
    "    display_grid(player_grid, computer_grid)\n",
    "    \n",
    "    if turn % 2 == 0:\n",
    "        print(\"À votre tour!\")\n",
    "        \n",
    "        try:\n",
    "            col = int(input(f\"Choisissez une abscisse (0–{grid_size - 1}): \"))\n",
    "            row = int(input(f\"Choisissez une ordonnée (0–{grid_size - 1}): \"))\n",
    "        except ValueError:\n",
    "            print(\"Entrée invalide, veuillez entrer des nombres.\")\n",
    "            continue\n",
    "        if not (0 <= row < grid_size and 0 <= col < grid_size):\n",
    "            print(\"Coordonnées hors de la grille.\")\n",
    "            continue\n",
    "        \n",
    "        hit(row, col, computer_grid)\n",
    "        \n",
    "        if victory_condition(computer_grid):\n",
    "            display_grid(player_grid, computer_grid)\n",
    "            print(\"Victoire ! Tous les navires ennemis sont coulés.\")\n",
    "            break\n",
    "    else:\n",
    "        print(\"Au tour de l'ordinateur!\")\n",
    "        \n",
    "        row = random.randint(0, grid_size - 1)\n",
    "        col = random.randint(0, grid_size - 1)\n",
    "        \n",
    "        hit(row, col, player_grid)\n",
    "        \n",
    "        if victory_condition(player_grid):\n",
    "            display_grid(player_grid, computer_grid)\n",
    "            print(\"Perdu ! L'ordinateur a coulé tous vps navires!\")\n",
    "            break\n",
    "\n",
    "    print()\n",
    "    turn += 1"
   ]
  },
  {
   "cell_type": "markdown",
   "id": "382256c0-f540-4852-858a-3064e193368e",
   "metadata": {},
   "source": [
    "# Pour aller plus loin\n",
    "On propose de rajouter différentes fonctionnalités pour complexifier un peu le code.\n",
    "### Rajouter une condition de défaite\n",
    "* si le joueur ou l'adversaire met plus de tant de coups à éliminer tous les navires, il a perdu!\n",
    "### Identifier quel navire a été touché/coulé\n",
    "* au lieu de parcourir toutes las cases de la grille pour vérifier leur état, on pourrait parcourir tous les navires et vérifier s'ils possèdent encore des cases de la grille\n",
    "* on pourrait d'abord modifier le dictionnaire des navires pour prendre en compte les coordonnées de chaque navire\n",
    "### Faire bouger les navires à chaque essai\n",
    "* à chaque tour, on pourrait rajouter une fonction \"move_ships\" qui translate d'une case (gauche, droite, haut bas) chaque navire\n",
    "* il faudrait modifier l'orientation pour prendre en compte le sens et non juste l'horizontalité/verticalité\n",
    "* il va falloir vérifier si le bateau peut bouger ou non (collision avec d'autres navires/bords de la rille)\n",
    "* il faudra remettre à jour les cases dans l'état \"touché\" à la fin de la boucle, pour pas superposer les états des cases au cas où un nvaire voudrait aller dessus"
   ]
  }
 ],
 "metadata": {
  "kernelspec": {
   "display_name": "Python 3 (ipykernel)",
   "language": "python",
   "name": "python3"
  },
  "language_info": {
   "codemirror_mode": {
    "name": "ipython",
    "version": 3
   },
   "file_extension": ".py",
   "mimetype": "text/x-python",
   "name": "python",
   "nbconvert_exporter": "python",
   "pygments_lexer": "ipython3",
   "version": "3.11.13"
  }
 },
 "nbformat": 4,
 "nbformat_minor": 5
}
